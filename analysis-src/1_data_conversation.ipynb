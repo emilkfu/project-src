{
 "cells": [
  {
   "cell_type": "code",
   "execution_count": 1,
   "metadata": {},
   "outputs": [],
   "source": [
    "#imports\n",
    "import numpy as np\n",
    "import pandas as pd\n",
    "import random\n",
    "import string\n",
    "\n",
    "import matplotlib.pyplot as plt\n",
    "%matplotlib inline\n",
    "import seaborn as sns\n",
    "\n",
    "import os\n",
    "import csv\n",
    "import datetime\n",
    "from datetime import timedelta,datetime, date"
   ]
  },
  {
   "cell_type": "markdown",
   "metadata": {},
   "source": [
    "# Перезапись CSV в Apache Parquet"
   ]
  },
  {
   "cell_type": "code",
   "execution_count": 2,
   "metadata": {},
   "outputs": [],
   "source": [
    "transactions = pd.read_csv('transactions.csv')"
   ]
  },
  {
   "cell_type": "code",
   "execution_count": 3,
   "metadata": {},
   "outputs": [],
   "source": [
    "transactions.START_DATE = pd.to_datetime(transactions.START_DATE)\n",
    "transactions.END_DATE = pd.to_datetime(transactions.END_DATE)\n",
    "transactions.DATE = pd.to_datetime(transactions.DATE)\n",
    "transactions.EXP_TYPE = transactions.EXP_TYPE.astype(\"category\")"
   ]
  },
  {
   "cell_type": "code",
   "execution_count": 4,
   "metadata": {},
   "outputs": [
    {
     "data": {
      "text/plain": [
       "0"
      ]
     },
     "execution_count": 4,
     "metadata": {},
     "output_type": "execute_result"
    }
   ],
   "source": [
    "transactions.TRANS_ID.duplicated().sum()"
   ]
  },
  {
   "cell_type": "code",
   "execution_count": 5,
   "metadata": {},
   "outputs": [],
   "source": [
    "transactions.drop(columns= [\"TRANS_ID\"], inplace= True)"
   ]
  },
  {
   "cell_type": "code",
   "execution_count": 6,
   "metadata": {},
   "outputs": [],
   "source": [
    "cl_to_ids = {}\n",
    "for (i,v) in enumerate(transactions.CUST_ID.unique()):\n",
    "  cl_to_ids[v] = i\n",
    "\n",
    "transactions.CUST_ID = [cl_to_ids[x]  for x in transactions.CUST_ID]"
   ]
  },
  {
   "cell_type": "code",
   "execution_count": 7,
   "metadata": {},
   "outputs": [
    {
     "name": "stdout",
     "output_type": "stream",
     "text": [
      "Всего клиентов: 9835\n",
      "Всего записей: 29002993\n"
     ]
    }
   ],
   "source": [
    "print(\"Всего клиентов: {}\".format(len(transactions['CUST_ID'].unique())))\n",
    "print(\"Всего записей: {}\".format(len(transactions)))"
   ]
  },
  {
   "cell_type": "code",
   "execution_count": 8,
   "metadata": {},
   "outputs": [
    {
     "data": {
      "text/html": [
       "<div>\n",
       "<style scoped>\n",
       "    .dataframe tbody tr th:only-of-type {\n",
       "        vertical-align: middle;\n",
       "    }\n",
       "\n",
       "    .dataframe tbody tr th {\n",
       "        vertical-align: top;\n",
       "    }\n",
       "\n",
       "    .dataframe thead th {\n",
       "        text-align: right;\n",
       "    }\n",
       "</style>\n",
       "<table border=\"1\" class=\"dataframe\">\n",
       "  <thead>\n",
       "    <tr style=\"text-align: right;\">\n",
       "      <th></th>\n",
       "      <th>CUST_ID</th>\n",
       "      <th>PROD_TYPE</th>\n",
       "    </tr>\n",
       "  </thead>\n",
       "  <tbody>\n",
       "    <tr>\n",
       "      <th>0</th>\n",
       "      <td>C8UCZ1WBR2</td>\n",
       "      <td>Накопительные счета</td>\n",
       "    </tr>\n",
       "    <tr>\n",
       "      <th>1</th>\n",
       "      <td>C8UCZ1WBR2</td>\n",
       "      <td>Вклады</td>\n",
       "    </tr>\n",
       "    <tr>\n",
       "      <th>2</th>\n",
       "      <td>CYSAGMKKKU</td>\n",
       "      <td>Накопительные счета</td>\n",
       "    </tr>\n",
       "    <tr>\n",
       "      <th>3</th>\n",
       "      <td>CPU546EFTB</td>\n",
       "      <td>Накопительные счета</td>\n",
       "    </tr>\n",
       "    <tr>\n",
       "      <th>4</th>\n",
       "      <td>C5M9RANCEW</td>\n",
       "      <td>Кредиты</td>\n",
       "    </tr>\n",
       "  </tbody>\n",
       "</table>\n",
       "</div>"
      ],
      "text/plain": [
       "      CUST_ID            PROD_TYPE\n",
       "0  C8UCZ1WBR2  Накопительные счета\n",
       "1  C8UCZ1WBR2               Вклады\n",
       "2  CYSAGMKKKU  Накопительные счета\n",
       "3  CPU546EFTB  Накопительные счета\n",
       "4  C5M9RANCEW              Кредиты"
      ]
     },
     "execution_count": 8,
     "metadata": {},
     "output_type": "execute_result"
    }
   ],
   "source": [
    "clients = pd.read_csv(\"customers.csv\")\n",
    "clients.head()"
   ]
  },
  {
   "cell_type": "code",
   "execution_count": 9,
   "metadata": {},
   "outputs": [],
   "source": [
    "clients.PROD_TYPE = clients.PROD_TYPE.astype(\"category\")\n",
    "clients.CUST_ID = [cl_to_ids[x]  for x in clients.CUST_ID]"
   ]
  },
  {
   "cell_type": "code",
   "execution_count": 10,
   "metadata": {},
   "outputs": [
    {
     "name": "stdout",
     "output_type": "stream",
     "text": [
      "Всего клиентов: 9835\n",
      "Всего записей: 13329\n"
     ]
    }
   ],
   "source": [
    "print(\"Всего клиентов: {}\".format(len(clients['CUST_ID'].unique())))\n",
    "print(\"Всего записей: {}\".format(len(clients)))"
   ]
  },
  {
   "cell_type": "code",
   "execution_count": 11,
   "metadata": {},
   "outputs": [],
   "source": [
    "#transactions.dropna(inplace= True)\n",
    "#print(\"Всего клиентов: {}\".format(len(transactions['CUST_ID'].unique())))\n",
    "#print(\"Всего записей: {}\".format(len(transactions)))"
   ]
  },
  {
   "cell_type": "code",
   "execution_count": 12,
   "metadata": {},
   "outputs": [
    {
     "name": "stdout",
     "output_type": "stream",
     "text": [
      "Всего клиентов: 9835\n",
      "Всего записей: 13329\n"
     ]
    }
   ],
   "source": [
    "clients = clients.loc[clients.CUST_ID.isin(transactions.CUST_ID.unique()), :]\n",
    "print(\"Всего клиентов: {}\".format(len(clients['CUST_ID'].unique())))\n",
    "print(\"Всего записей: {}\".format(len(clients)))"
   ]
  },
  {
   "cell_type": "code",
   "execution_count": 13,
   "metadata": {},
   "outputs": [],
   "source": [
    "transactions.YEAR = transactions.YEAR.round().fillna(-1).astype(\"int\")\n",
    "transactions.MONTH = transactions.MONTH.round().fillna(-1).astype(\"int\")\n",
    "transactions.DAY = transactions.DAY.round().fillna(-1).astype(\"int\")"
   ]
  },
  {
   "cell_type": "code",
   "execution_count": 14,
   "metadata": {},
   "outputs": [
    {
     "data": {
      "text/html": [
       "<div>\n",
       "<style scoped>\n",
       "    .dataframe tbody tr th:only-of-type {\n",
       "        vertical-align: middle;\n",
       "    }\n",
       "\n",
       "    .dataframe tbody tr th {\n",
       "        vertical-align: top;\n",
       "    }\n",
       "\n",
       "    .dataframe thead th {\n",
       "        text-align: right;\n",
       "    }\n",
       "</style>\n",
       "<table border=\"1\" class=\"dataframe\">\n",
       "  <thead>\n",
       "    <tr style=\"text-align: right;\">\n",
       "      <th></th>\n",
       "      <th>CUST_ID</th>\n",
       "      <th>START_DATE</th>\n",
       "      <th>END_DATE</th>\n",
       "      <th>DATE</th>\n",
       "      <th>YEAR</th>\n",
       "      <th>MONTH</th>\n",
       "      <th>DAY</th>\n",
       "      <th>EXP_TYPE</th>\n",
       "      <th>AMOUNT</th>\n",
       "    </tr>\n",
       "  </thead>\n",
       "  <tbody>\n",
       "    <tr>\n",
       "      <th>0</th>\n",
       "      <td>0</td>\n",
       "      <td>2015-03-04</td>\n",
       "      <td>2020-06-27</td>\n",
       "      <td>2017-11-26</td>\n",
       "      <td>2017</td>\n",
       "      <td>11</td>\n",
       "      <td>26</td>\n",
       "      <td>Развлечения</td>\n",
       "      <td>261.99</td>\n",
       "    </tr>\n",
       "    <tr>\n",
       "      <th>1</th>\n",
       "      <td>0</td>\n",
       "      <td>2017-01-11</td>\n",
       "      <td>2020-06-27</td>\n",
       "      <td>2020-06-04</td>\n",
       "      <td>2020</td>\n",
       "      <td>6</td>\n",
       "      <td>4</td>\n",
       "      <td>Туристическое агенство</td>\n",
       "      <td>6017.57</td>\n",
       "    </tr>\n",
       "    <tr>\n",
       "      <th>2</th>\n",
       "      <td>0</td>\n",
       "      <td>2016-12-19</td>\n",
       "      <td>2020-06-27</td>\n",
       "      <td>2017-09-11</td>\n",
       "      <td>2017</td>\n",
       "      <td>9</td>\n",
       "      <td>11</td>\n",
       "      <td>Oтели, мотели, курорты</td>\n",
       "      <td>853.71</td>\n",
       "    </tr>\n",
       "    <tr>\n",
       "      <th>3</th>\n",
       "      <td>0</td>\n",
       "      <td>2017-02-28</td>\n",
       "      <td>2020-06-27</td>\n",
       "      <td>2018-01-12</td>\n",
       "      <td>2018</td>\n",
       "      <td>1</td>\n",
       "      <td>12</td>\n",
       "      <td>Билеты кино, музеи, театры, шоу</td>\n",
       "      <td>141.11</td>\n",
       "    </tr>\n",
       "    <tr>\n",
       "      <th>4</th>\n",
       "      <td>0</td>\n",
       "      <td>2015-04-06</td>\n",
       "      <td>2020-06-27</td>\n",
       "      <td>2018-01-26</td>\n",
       "      <td>2018</td>\n",
       "      <td>1</td>\n",
       "      <td>26</td>\n",
       "      <td>Развлечения</td>\n",
       "      <td>123.94</td>\n",
       "    </tr>\n",
       "  </tbody>\n",
       "</table>\n",
       "</div>"
      ],
      "text/plain": [
       "   CUST_ID START_DATE   END_DATE       DATE  YEAR  MONTH  DAY  \\\n",
       "0        0 2015-03-04 2020-06-27 2017-11-26  2017     11   26   \n",
       "1        0 2017-01-11 2020-06-27 2020-06-04  2020      6    4   \n",
       "2        0 2016-12-19 2020-06-27 2017-09-11  2017      9   11   \n",
       "3        0 2017-02-28 2020-06-27 2018-01-12  2018      1   12   \n",
       "4        0 2015-04-06 2020-06-27 2018-01-26  2018      1   26   \n",
       "\n",
       "                          EXP_TYPE   AMOUNT  \n",
       "0                      Развлечения   261.99  \n",
       "1           Туристическое агенство  6017.57  \n",
       "2           Oтели, мотели, курорты   853.71  \n",
       "3  Билеты кино, музеи, театры, шоу   141.11  \n",
       "4                      Развлечения   123.94  "
      ]
     },
     "execution_count": 14,
     "metadata": {},
     "output_type": "execute_result"
    }
   ],
   "source": [
    "transactions.head()"
   ]
  },
  {
   "cell_type": "code",
   "execution_count": 15,
   "metadata": {},
   "outputs": [
    {
     "data": {
      "text/html": [
       "<div>\n",
       "<style scoped>\n",
       "    .dataframe tbody tr th:only-of-type {\n",
       "        vertical-align: middle;\n",
       "    }\n",
       "\n",
       "    .dataframe tbody tr th {\n",
       "        vertical-align: top;\n",
       "    }\n",
       "\n",
       "    .dataframe thead th {\n",
       "        text-align: right;\n",
       "    }\n",
       "</style>\n",
       "<table border=\"1\" class=\"dataframe\">\n",
       "  <thead>\n",
       "    <tr style=\"text-align: right;\">\n",
       "      <th></th>\n",
       "      <th>CUST_ID</th>\n",
       "      <th>PROD_TYPE</th>\n",
       "    </tr>\n",
       "  </thead>\n",
       "  <tbody>\n",
       "    <tr>\n",
       "      <th>0</th>\n",
       "      <td>0</td>\n",
       "      <td>Накопительные счета</td>\n",
       "    </tr>\n",
       "    <tr>\n",
       "      <th>1</th>\n",
       "      <td>0</td>\n",
       "      <td>Вклады</td>\n",
       "    </tr>\n",
       "    <tr>\n",
       "      <th>2</th>\n",
       "      <td>1</td>\n",
       "      <td>Накопительные счета</td>\n",
       "    </tr>\n",
       "    <tr>\n",
       "      <th>3</th>\n",
       "      <td>2</td>\n",
       "      <td>Накопительные счета</td>\n",
       "    </tr>\n",
       "    <tr>\n",
       "      <th>4</th>\n",
       "      <td>3</td>\n",
       "      <td>Кредиты</td>\n",
       "    </tr>\n",
       "  </tbody>\n",
       "</table>\n",
       "</div>"
      ],
      "text/plain": [
       "   CUST_ID            PROD_TYPE\n",
       "0        0  Накопительные счета\n",
       "1        0               Вклады\n",
       "2        1  Накопительные счета\n",
       "3        2  Накопительные счета\n",
       "4        3              Кредиты"
      ]
     },
     "execution_count": 15,
     "metadata": {},
     "output_type": "execute_result"
    }
   ],
   "source": [
    "clients.head()"
   ]
  },
  {
   "cell_type": "code",
   "execution_count": 16,
   "metadata": {},
   "outputs": [
    {
     "data": {
      "text/plain": [
       "False"
      ]
     },
     "execution_count": 16,
     "metadata": {},
     "output_type": "execute_result"
    }
   ],
   "source": [
    "transactions.EXP_TYPE.cat.categories[0] == 'Отели, мотели, курорты'"
   ]
  },
  {
   "cell_type": "markdown",
   "metadata": {},
   "source": [
    "### латинские буквы в русских названиях!"
   ]
  },
  {
   "cell_type": "code",
   "execution_count": 17,
   "metadata": {},
   "outputs": [
    {
     "data": {
      "text/plain": [
       "[False,\n",
       " True,\n",
       " True,\n",
       " True,\n",
       " True,\n",
       " True,\n",
       " True,\n",
       " True,\n",
       " True,\n",
       " True,\n",
       " True,\n",
       " True,\n",
       " True,\n",
       " True,\n",
       " True,\n",
       " True,\n",
       " True,\n",
       " True,\n",
       " True,\n",
       " True,\n",
       " True,\n",
       " True,\n",
       " True,\n",
       " True,\n",
       " True,\n",
       " True,\n",
       " True,\n",
       " True,\n",
       " True,\n",
       " True,\n",
       " True,\n",
       " True,\n",
       " True]"
      ]
     },
     "execution_count": 17,
     "metadata": {},
     "output_type": "execute_result"
    }
   ],
   "source": [
    "import re\n",
    "cats = transactions.EXP_TYPE.cat.categories.tolist()\n",
    "[re.match(\"[, а-яА-Я]+\", c) is not None   for c in cats]"
   ]
  },
  {
   "cell_type": "code",
   "execution_count": 18,
   "metadata": {},
   "outputs": [
    {
     "name": "stderr",
     "output_type": "stream",
     "text": [
      "/home/icarus/.local/lib/python3.9/site-packages/pandas/core/arrays/categorical.py:2630: FutureWarning: The `inplace` parameter in pandas.Categorical.reorder_categories is deprecated and will be removed in a future version. Removing unused categories will always return a new Categorical object.\n",
      "  res = method(*args, **kwargs)\n"
     ]
    }
   ],
   "source": [
    "cats[0] = 'Отели, мотели, курорты'\n",
    "cats = [x.strip()   for x in cats]\n",
    "transactions.EXP_TYPE.cat.categories = cats\n",
    "transactions.EXP_TYPE = \n",
    "  transactions.EXP_TYPE.cat.reorder_categories(sorted(cats))"
   ]
  },
  {
   "cell_type": "code",
   "execution_count": 19,
   "metadata": {},
   "outputs": [
    {
     "data": {
      "text/plain": [
       "[True, True, True, True, True, True, True, True, True, True]"
      ]
     },
     "execution_count": 19,
     "metadata": {},
     "output_type": "execute_result"
    }
   ],
   "source": [
    "cats = clients.PROD_TYPE.cat.categories.tolist()\n",
    "[re.match(\"[, а-яА-Я]+\", c) is not None   for c in cats]"
   ]
  },
  {
   "cell_type": "code",
   "execution_count": 20,
   "metadata": {},
   "outputs": [],
   "source": [
    "clients.PROD_TYPE.cat.categories = [x.strip()   for x in cats]"
   ]
  },
  {
   "cell_type": "code",
   "execution_count": 21,
   "metadata": {},
   "outputs": [],
   "source": [
    "np.savetxt(\"exptypes.txt\", transactions.EXP_TYPE.cat.categories.to_numpy(), \n",
    "           \"%s\")\n",
    "np.savetxt(\"prodtypes.txt\", clients.PROD_TYPE.cat.categories.to_numpy(), \n",
    "           \"%s\")"
   ]
  },
  {
   "cell_type": "code",
   "execution_count": 22,
   "metadata": {},
   "outputs": [],
   "source": [
    "transactions.to_parquet(\"transactions.parquet\")"
   ]
  },
  {
   "cell_type": "code",
   "execution_count": 23,
   "metadata": {},
   "outputs": [],
   "source": [
    "clients.to_parquet(\"customers.parquet\")"
   ]
  }
 ],
 "metadata": {
  "kernelspec": {
   "display_name": "Python 3 (ipykernel)",
   "language": "python",
   "name": "python3"
  },
  "language_info": {
   "codemirror_mode": {
    "name": "ipython",
    "version": 3
   },
   "file_extension": ".py",
   "mimetype": "text/x-python",
   "name": "python",
   "nbconvert_exporter": "python",
   "pygments_lexer": "ipython3",
   "version": "3.10.4"
  }
 },
 "nbformat": 4,
 "nbformat_minor": 4
}
