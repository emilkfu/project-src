{
 "cells": [
  {
   "cell_type": "code",
   "execution_count": 1,
   "metadata": {},
   "outputs": [],
   "source": [
    "#imports\n",
    "import numpy as np\n",
    "import pandas as pd\n",
    "import random\n",
    "import string\n",
    "\n",
    "import matplotlib.pyplot as plt\n",
    "%matplotlib inline\n",
    "import seaborn as sns\n",
    "\n",
    "import os\n",
    "import csv\n",
    "import datetime\n",
    "from datetime import timedelta,datetime, date\n",
    "\n",
    "from scipy import stats\n",
    "from scipy.sparse import csr_matrix\n",
    "\n",
    "import sklearn\n",
    "from sklearn import metrics\n",
    "\n",
    "import implicit\n",
    "from implicit.nearest_neighbours import bm25_weight\n",
    "from implicit.als import AlternatingLeastSquares"
   ]
  },
  {
   "cell_type": "code",
   "execution_count": 2,
   "metadata": {},
   "outputs": [],
   "source": [
    "cu = pd.read_parquet(\"customers.parquet\")\n",
    "tr = pd.read_parquet(\"transactions_2_cleaned.parquet\")"
   ]
  },
  {
   "cell_type": "code",
   "execution_count": 3,
   "metadata": {},
   "outputs": [],
   "source": [
    "exptypes = tr.EXP_TYPE.unique()\n",
    "prodtypes = cu.PROD_TYPE.unique()\n",
    "\n",
    "cutoprod = {c:v.PROD_TYPE for (c,v) in cu.groupby(\"CUST_ID\")}"
   ]
  },
  {
   "cell_type": "code",
   "execution_count": 4,
   "metadata": {},
   "outputs": [],
   "source": [
    "grp = tr.loc[:, [\"CUST_ID\", \"EXP_TYPE\", \"AMOUNT\"]].groupby(\"CUST_ID\")\n",
    "l = []\n",
    "lcu = []\n",
    "\n",
    "for (k,v) in grp:\n",
    "  df2 = v.groupby(\"EXP_TYPE\").apply(lambda x: pd.Series([x.shape[0], \n",
    "    x.AMOUNT.sum()], index= [\"n\", \"AMOUNT\"]))\n",
    "  df2.loc[:, \"AMOUNT_prop\"] = df2.AMOUNT / df2.AMOUNT.sum()\n",
    "  df2.loc[:, \"n_prop\"] = df2.n / df2.n.sum()\n",
    "  df2.loc[:, \"AMOUNT_per_n\"] = [0.0 if np.isnan(x) else x  \n",
    "                                for x in df2.AMOUNT / df2.n]\n",
    "  l.append(df2)\n",
    "  lcu.append(k)"
   ]
  },
  {
   "cell_type": "code",
   "execution_count": 5,
   "metadata": {},
   "outputs": [],
   "source": [
    "nc = len(exptypes)\n",
    "\n",
    "datax = np.zeros((len(l), 3*len(exptypes)))\n",
    "for (i,v) in enumerate(l):\n",
    "  datax[i, range(nc)] = v.AMOUNT_prop\n",
    "  datax[i, range(nc, nc + nc)] = v.n_prop\n",
    "  datax[i, range(2*nc, 2*nc + nc)] = v.AMOUNT_per_n\n",
    "  \n",
    "datax_ap = datax[:, range(nc)]\n",
    "datax_np = datax[:, range(nc, 2*nc)]\n",
    "datax_apn = datax[:, range(2*nc, 3*nc)]\n",
    "\n",
    "datay = np.array([ np.array([float((p == cutoprod[cu]).any())  for cu in lcu]) \n",
    "         for p in prodtypes]).transpose()"
   ]
  },
  {
   "cell_type": "markdown",
   "metadata": {},
   "source": [
    "https://github.com/benfred/implicit/issues/125 "
   ]
  },
  {
   "cell_type": "code",
   "execution_count": 141,
   "metadata": {},
   "outputs": [],
   "source": [
    "def prepare_model(datax):\n",
    "  model = AlternatingLeastSquares(factors=34, regularization=0.05)\n",
    "  datax2 = csr_matrix(datax)\n",
    "  csrdatax = bm25_weight(datax2.T.tocsr(), K1=100, B=0.8).T.tocsr()\n",
    "  model.fit(csrdatax, False)\n",
    "  return(model)\n",
    "\n",
    "def findsimilar_users(model, datax, newdata):\n",
    "  newi = datax.shape[0]\n",
    "  datax2 = csr_matrix(np.vstack([datax, newdata]))\n",
    "  csrdatax = bm25_weight(datax2.T.tocsr(), K1=100, B=0.8).T.tocsr()\n",
    "  model.partial_fit_users([newi], csr_matrix(datax2[[newi], :]))\n",
    "  return(model.similar_users(newi, 10, [newi]))\n",
    "\n",
    "#def average_products(datay, su):"
   ]
  },
  {
   "cell_type": "code",
   "execution_count": 142,
   "metadata": {},
   "outputs": [],
   "source": [
    "model = prepare_model(datax)"
   ]
  },
  {
   "cell_type": "code",
   "execution_count": 143,
   "metadata": {},
   "outputs": [
    {
     "name": "stdout",
     "output_type": "stream",
     "text": [
      "(array([5033, 4372, 4427, 5109, 5314, 5913, 4984, 5932, 5116, 4723],\n",
      "      dtype=int32), array([0.96125174, 0.9578122 , 0.9543303 , 0.95311785, 0.95015043,\n",
      "       0.9498622 , 0.9481703 , 0.94607836, 0.93609583, 0.9333036 ],\n",
      "      dtype=float32))\n"
     ]
    }
   ],
   "source": [
    "su = findsimilar_users(model, datax, datax[12, :])\n",
    "print(su)"
   ]
  },
  {
   "cell_type": "code",
   "execution_count": 144,
   "metadata": {},
   "outputs": [
    {
     "data": {
      "text/plain": [
       "array([[0., 1., 0., 0., 0., 0., 0., 0., 0., 0.],\n",
       "       [0., 0., 1., 0., 0., 0., 0., 0., 0., 0.],\n",
       "       [1., 0., 0., 0., 0., 0., 1., 0., 0., 0.],\n",
       "       [0., 1., 0., 0., 0., 0., 0., 0., 0., 0.],\n",
       "       [0., 0., 0., 0., 0., 0., 0., 1., 0., 0.],\n",
       "       [0., 0., 0., 0., 1., 0., 0., 0., 0., 0.],\n",
       "       [0., 0., 0., 1., 0., 0., 0., 0., 0., 0.],\n",
       "       [0., 0., 1., 0., 0., 0., 0., 0., 0., 0.],\n",
       "       [0., 1., 0., 0., 0., 0., 0., 0., 0., 0.],\n",
       "       [0., 0., 0., 0., 0., 0., 0., 0., 1., 0.]])"
      ]
     },
     "execution_count": 144,
     "metadata": {},
     "output_type": "execute_result"
    }
   ],
   "source": [
    "datay[su[0],:]\n"
   ]
  },
  {
   "cell_type": "code",
   "execution_count": 8,
   "metadata": {},
   "outputs": [],
   "source": [
    "def findsimilar_users2(datax, newdata):\n",
    "  model = AlternatingLeastSquares(factors=34, regularization=0.05)\n",
    "  newi = datax.shape[0]\n",
    "  datax2 = csr_matrix(np.vstack([datax, newdata]))\n",
    "  csrdatax = datax2#bm25_weight(datax2.T.tocsr(), K1=2, B=0.8).T.tocsr()\n",
    "  model.fit(csrdatax, False)\n",
    "  return(model.similar_users(newi, 10, [newi]))  "
   ]
  },
  {
   "cell_type": "code",
   "execution_count": 9,
   "metadata": {},
   "outputs": [
    {
     "name": "stderr",
     "output_type": "stream",
     "text": [
      "/home/icarus/.local/lib/python3.9/site-packages/implicit/utils.py:26: UserWarning: OpenBLAS detected. Its highly recommend to set the environment variable 'export OPENBLAS_NUM_THREADS=1' to disable its internal multithreading\n",
      "  warnings.warn(\n"
     ]
    },
    {
     "name": "stdout",
     "output_type": "stream",
     "text": [
      "(array([  12,  355, 5610, 1151, 5164,  696, 6847, 5913, 3686, 1058],\n",
      "      dtype=int32), array([1.        , 0.9998425 , 0.9988973 , 0.9984989 , 0.9981169 ,\n",
      "       0.99806595, 0.9975769 , 0.9975633 , 0.99737585, 0.99725366],\n",
      "      dtype=float32))\n"
     ]
    }
   ],
   "source": [
    "su = findsimilar_users2(datax, datax[[12], :])\n",
    "print(su)"
   ]
  },
  {
   "cell_type": "code",
   "execution_count": 10,
   "metadata": {},
   "outputs": [
    {
     "data": {
      "text/plain": [
       "array([[0., 1., 0., 0., 0., 0., 0., 0., 0., 0.],\n",
       "       [0., 0., 1., 0., 0., 0., 0., 0., 0., 0.],\n",
       "       [0., 0., 0., 0., 1., 0., 0., 0., 0., 0.],\n",
       "       [0., 0., 0., 0., 1., 0., 0., 0., 0., 1.],\n",
       "       [0., 0., 1., 0., 0., 0., 0., 0., 0., 0.],\n",
       "       [0., 0., 1., 0., 0., 0., 0., 0., 0., 0.],\n",
       "       [0., 0., 0., 1., 0., 0., 0., 0., 0., 0.],\n",
       "       [0., 0., 0., 0., 1., 0., 0., 0., 0., 0.],\n",
       "       [0., 1., 0., 0., 0., 0., 0., 0., 0., 1.],\n",
       "       [1., 0., 1., 0., 0., 0., 0., 0., 0., 0.]])"
      ]
     },
     "execution_count": 10,
     "metadata": {},
     "output_type": "execute_result"
    }
   ],
   "source": [
    "datay[su[0],:]\n"
   ]
  },
  {
   "cell_type": "code",
   "execution_count": 11,
   "metadata": {},
   "outputs": [],
   "source": [
    "def findsimilar_users3(datax, newdata):\n",
    "  model = AlternatingLeastSquares(factors=34, regularization=0.05)\n",
    "  newi = datax.shape[0]\n",
    "  datax2 = csr_matrix(np.vstack([datax, newdata]))\n",
    "  csrdatax = bm25_weight(datax2, K1=2, B=0.8).tocsr()\n",
    "  model.fit(csrdatax, False)\n",
    "  return(model.similar_users(newi, 10, [newi]))  "
   ]
  },
  {
   "cell_type": "code",
   "execution_count": 12,
   "metadata": {},
   "outputs": [
    {
     "name": "stdout",
     "output_type": "stream",
     "text": [
      "(array([  12,  355, 3105, 3145, 3863, 3738, 5610, 2606, 1999, 2364],\n",
      "      dtype=int32), array([1.        , 0.9999347 , 0.99988836, 0.9858127 , 0.9845693 ,\n",
      "       0.9838061 , 0.98125863, 0.9778415 , 0.9736157 , 0.97096896],\n",
      "      dtype=float32))\n"
     ]
    }
   ],
   "source": [
    "su = findsimilar_users3(datax, datax[[12], :])\n",
    "print(su)"
   ]
  },
  {
   "cell_type": "code",
   "execution_count": 13,
   "metadata": {},
   "outputs": [
    {
     "data": {
      "text/plain": [
       "array([[0., 1., 0., 0., 0., 0., 0., 0., 0., 0.],\n",
       "       [0., 0., 1., 0., 0., 0., 0., 0., 0., 0.],\n",
       "       [0., 0., 1., 0., 0., 0., 0., 0., 0., 1.],\n",
       "       [1., 0., 0., 0., 0., 0., 0., 0., 0., 0.],\n",
       "       [0., 0., 1., 0., 0., 0., 0., 0., 0., 0.],\n",
       "       [0., 0., 1., 1., 0., 0., 0., 0., 0., 1.],\n",
       "       [0., 0., 0., 0., 1., 0., 0., 0., 0., 0.],\n",
       "       [1., 0., 0., 0., 0., 0., 0., 0., 0., 0.],\n",
       "       [1., 0., 0., 0., 0., 0., 0., 0., 0., 0.],\n",
       "       [1., 0., 0., 0., 0., 0., 0., 1., 0., 0.]])"
      ]
     },
     "execution_count": 13,
     "metadata": {},
     "output_type": "execute_result"
    }
   ],
   "source": [
    "datay[su[0],:]\n"
   ]
  },
  {
   "cell_type": "code",
   "execution_count": 14,
   "metadata": {},
   "outputs": [
    {
     "name": "stdout",
     "output_type": "stream",
     "text": [
      "(array([  12, 3105,  355, 5039,  334, 2364, 3686, 5913, 3145, 1999],\n",
      "      dtype=int32), array([1.        , 0.99833894, 0.9972507 , 0.974794  , 0.972698  ,\n",
      "       0.97139215, 0.97120965, 0.9711225 , 0.9676098 , 0.96215695],\n",
      "      dtype=float32))\n"
     ]
    }
   ],
   "source": [
    "su = findsimilar_users3(datax_ap, datax_ap[[12], :])\n",
    "print(su)"
   ]
  },
  {
   "cell_type": "code",
   "execution_count": 15,
   "metadata": {},
   "outputs": [
    {
     "data": {
      "text/plain": [
       "array([[0., 1., 0., 0., 0., 0., 0., 0., 0., 0.],\n",
       "       [0., 0., 1., 0., 0., 0., 0., 0., 0., 1.],\n",
       "       [0., 0., 1., 0., 0., 0., 0., 0., 0., 0.],\n",
       "       [0., 1., 0., 0., 0., 0., 0., 0., 0., 0.],\n",
       "       [0., 0., 0., 0., 0., 0., 0., 0., 0., 1.],\n",
       "       [1., 0., 0., 0., 0., 0., 0., 1., 0., 0.],\n",
       "       [0., 1., 0., 0., 0., 0., 0., 0., 0., 1.],\n",
       "       [0., 0., 0., 0., 1., 0., 0., 0., 0., 0.],\n",
       "       [1., 0., 0., 0., 0., 0., 0., 0., 0., 0.],\n",
       "       [1., 0., 0., 0., 0., 0., 0., 0., 0., 0.]])"
      ]
     },
     "execution_count": 15,
     "metadata": {},
     "output_type": "execute_result"
    }
   ],
   "source": [
    "datay[su[0],:]\n"
   ]
  },
  {
   "cell_type": "code",
   "execution_count": null,
   "metadata": {},
   "outputs": [],
   "source": []
  }
 ],
 "metadata": {
  "kernelspec": {
   "display_name": "Python 3",
   "language": "python",
   "name": "python3"
  },
  "language_info": {
   "codemirror_mode": {
    "name": "ipython",
    "version": 3
   },
   "file_extension": ".py",
   "mimetype": "text/x-python",
   "name": "python",
   "nbconvert_exporter": "python",
   "pygments_lexer": "ipython3",
   "version": "3.9.5"
  }
 },
 "nbformat": 4,
 "nbformat_minor": 4
}
